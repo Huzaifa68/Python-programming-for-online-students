{
 "cells": [
  {
   "cell_type": "code",
   "execution_count": 1,
   "metadata": {},
   "outputs": [
    {
     "name": "stdout",
     "output_type": "stream",
     "text": [
      "Ali\n"
     ]
    }
   ],
   "source": [
    "a = \"Ali\"\n",
    "print(a)"
   ]
  },
  {
   "cell_type": "code",
   "execution_count": 12,
   "metadata": {},
   "outputs": [
    {
     "name": "stdout",
     "output_type": "stream",
     "text": [
      "What is your age:18\n",
      "You are allowed to get Ride\n"
     ]
    }
   ],
   "source": [
    "age = int(input(\"What is your age:\"))\n",
    "if age >= 18 :\n",
    " print(\"You are allowed to get Ride\")\n",
    "else :\n",
    " print(\"You are not allowed to get ride\")"
   ]
  },
  {
   "cell_type": "code",
   "execution_count": 17,
   "metadata": {},
   "outputs": [
    {
     "name": "stdout",
     "output_type": "stream",
     "text": [
      "Your answer is correct\n"
     ]
    }
   ],
   "source": [
    "x = 10\n",
    "y = 12 //22\n",
    "a = 30\n",
    "b = 8 //22\n",
    "if x + y != a - b:\n",
    "    print(\"Your answer is correct\")\n",
    "else:\n",
    "    print(\"Your answer is not correct\")"
   ]
  },
  {
   "cell_type": "code",
   "execution_count": 29,
   "metadata": {},
   "outputs": [
    {
     "name": "stdout",
     "output_type": "stream",
     "text": [
      "Enter your per%:123\n",
      "You put some wrong input\n"
     ]
    }
   ],
   "source": [
    "per = int(input(\"Enter your per%:\"));\n",
    "if per >= 80 and per <= 100:\n",
    "    print(\"A+\")\n",
    "elif per >= 70 and per <= 79:\n",
    "    print(\"A\")\n",
    "elif per >= 60 and per <= 69:\n",
    "    print(\"B\")\n",
    "elif per >= 0 and per <=59 :\n",
    "    print(\"FAIL\")\n",
    "else :\n",
    "    print(\"You put some wrong input\")"
   ]
  },
  {
   "cell_type": "code",
   "execution_count": 36,
   "metadata": {},
   "outputs": [
    {
     "name": "stdout",
     "output_type": "stream",
     "text": [
      "150\n"
     ]
    }
   ],
   "source": [
    "a=5\n",
    "b=6\n",
    "c=8\n",
    "d=8\n",
    "e=9\n",
    "g=10\n",
    "f=150\n",
    "x=10\n",
    "y=12\n",
    "h=0\n",
    "if c == d:\n",
    " if x == y:\n",
    "    g = h\n",
    "    print(g)\n",
    " elif a == b:\n",
    "    g = h\n",
    "    print(g)\n",
    " else:\n",
    "    e = f\n",
    "    print(e)\n",
    "else:\n",
    "    e = f\n",
    "    print(e)"
   ]
  },
  {
   "cell_type": "code",
   "execution_count": 38,
   "metadata": {},
   "outputs": [
    {
     "name": "stdout",
     "output_type": "stream",
     "text": [
      "['Ali', 'Haider', 'Salman', 25, False, 0.9]\n"
     ]
    }
   ],
   "source": [
    "arr = [\"Ali\",\"Haider\",\"Salman\",25,False,0.9]\n",
    "print(arr)"
   ]
  },
  {
   "cell_type": "code",
   "execution_count": 42,
   "metadata": {},
   "outputs": [
    {
     "name": "stdout",
     "output_type": "stream",
     "text": [
      "Haider\n"
     ]
    }
   ],
   "source": [
    "arr = [\"Ali\",\"Haider\",\"Salman\",25,False,0.9]\n",
    "print(arr[1])"
   ]
  },
  {
   "cell_type": "code",
   "execution_count": 44,
   "metadata": {},
   "outputs": [
    {
     "name": "stdout",
     "output_type": "stream",
     "text": [
      "Ali\n"
     ]
    }
   ],
   "source": [
    "print(arr[0])"
   ]
  },
  {
   "cell_type": "code",
   "execution_count": 48,
   "metadata": {},
   "outputs": [
    {
     "name": "stdout",
     "output_type": "stream",
     "text": [
      "0.9\n"
     ]
    }
   ],
   "source": [
    "arr = [\"Ali\",\"Haider\",\"Salman\",25,False,0.9]\n",
    "print(arr[5])"
   ]
  },
  {
   "cell_type": "code",
   "execution_count": 54,
   "metadata": {},
   "outputs": [
    {
     "data": {
      "text/plain": [
       "['Ali',\n",
       " 'Haider',\n",
       " 'Salman',\n",
       " 25,\n",
       " False,\n",
       " 0.9,\n",
       " 'Umer',\n",
       " 'Umer',\n",
       " 'Umer',\n",
       " 'Huzaifa',\n",
       " 'Huzaifa',\n",
       " 'Huzaifa']"
      ]
     },
     "execution_count": 54,
     "metadata": {},
     "output_type": "execute_result"
    }
   ],
   "source": [
    "arr.append(\"Huzaifa\")\n",
    "arr"
   ]
  },
  {
   "cell_type": "code",
   "execution_count": 55,
   "metadata": {},
   "outputs": [
    {
     "name": "stdout",
     "output_type": "stream",
     "text": [
      "['Ali', 'Haider', 'Salman', 25, False, 0.9, 'Umer', 'Umer', 'Umer', 'Huzaifa', 'Huzaifa', 'Huzaifa', 'Daniya', 'Zainab']\n"
     ]
    }
   ],
   "source": [
    "arr1 = arr + [\"Daniya\",\"Zainab\"]\n",
    "print(arr1)"
   ]
  },
  {
   "cell_type": "code",
   "execution_count": 56,
   "metadata": {},
   "outputs": [
    {
     "name": "stdout",
     "output_type": "stream",
     "text": [
      "['Ali', 'Haider', 'Raza', 'Salman', 25, False, 0.9, 'Umer', 'Umer', 'Umer', 'Huzaifa', 'Huzaifa', 'Huzaifa', 'Daniya', 'Zainab']\n"
     ]
    }
   ],
   "source": [
    "arr1.insert(2, \"Raza\")\n",
    "print(arr1)"
   ]
  },
  {
   "cell_type": "code",
   "execution_count": 57,
   "metadata": {},
   "outputs": [
    {
     "name": "stdout",
     "output_type": "stream",
     "text": [
      "['Ali', 'Haider', 'Raza', 'Salman', 25, True, 0.9, 'Umer', 'Umer', 'Umer', 'Huzaifa', 'Huzaifa', 'Huzaifa', 'Daniya', 'Zainab']\n"
     ]
    }
   ],
   "source": [
    "arr1[5] = True\n",
    "print(arr1)"
   ]
  },
  {
   "cell_type": "code",
   "execution_count": 59,
   "metadata": {},
   "outputs": [
    {
     "name": "stdout",
     "output_type": "stream",
     "text": [
      "['Raza', 'Salman', 25, True, 0.9, 'Umer']\n"
     ]
    }
   ],
   "source": [
    "arr2 = arr1[2 : 8]\n",
    "print(arr2)"
   ]
  },
  {
   "cell_type": "code",
   "execution_count": 61,
   "metadata": {},
   "outputs": [
    {
     "name": "stdout",
     "output_type": "stream",
     "text": [
      "['Raza', 'Salman', 25, True, 0.9, 'Umer']\n"
     ]
    }
   ],
   "source": [
    "arr3 = arr2[:6]\n",
    "print(arr3)"
   ]
  },
  {
   "cell_type": "code",
   "execution_count": 68,
   "metadata": {},
   "outputs": [
    {
     "name": "stdout",
     "output_type": "stream",
     "text": [
      "['Salman', 0.9, 'Umer', 'Umer', 'Huzaifa', 'Huzaifa']\n"
     ]
    }
   ],
   "source": [
    "del arr[4]\n",
    "print(arr)"
   ]
  },
  {
   "cell_type": "code",
   "execution_count": 63,
   "metadata": {},
   "outputs": [
    {
     "name": "stdout",
     "output_type": "stream",
     "text": [
      "['Ali', 'Salman', 25, False, 0.9, 'Umer', 'Umer', 'Umer', 'Huzaifa', 'Huzaifa', 'Huzaifa']\n"
     ]
    }
   ],
   "source": [
    "print(arr)"
   ]
  },
  {
   "cell_type": "code",
   "execution_count": 69,
   "metadata": {},
   "outputs": [
    {
     "name": "stdout",
     "output_type": "stream",
     "text": [
      "['Salman', 0.9, 'Umer', 'Umer', 'Huzaifa', 'Huzaifa']\n"
     ]
    }
   ],
   "source": [
    "print(arr)"
   ]
  },
  {
   "cell_type": "code",
   "execution_count": 70,
   "metadata": {},
   "outputs": [
    {
     "name": "stdout",
     "output_type": "stream",
     "text": [
      "['Salman', 0.9, 'Umer', 'Umer', 'Huzaifa']\n"
     ]
    }
   ],
   "source": [
    "del arr[5]\n",
    "print(arr)"
   ]
  },
  {
   "cell_type": "code",
   "execution_count": 72,
   "metadata": {},
   "outputs": [
    {
     "name": "stdout",
     "output_type": "stream",
     "text": [
      "['Salman', 'Umer', 'Umer', 'Huzaifa']\n"
     ]
    }
   ],
   "source": [
    "arr.remove(0.9)\n",
    "print(arr)"
   ]
  },
  {
   "cell_type": "code",
   "execution_count": 75,
   "metadata": {},
   "outputs": [
    {
     "name": "stdout",
     "output_type": "stream",
     "text": [
      "Umer\n"
     ]
    }
   ],
   "source": [
    "arr4 = arr.pop()\n",
    "print(arr4)"
   ]
  }
 ],
 "metadata": {
  "kernelspec": {
   "display_name": "Python 3",
   "language": "python",
   "name": "python3"
  },
  "language_info": {
   "codemirror_mode": {
    "name": "ipython",
    "version": 3
   },
   "file_extension": ".py",
   "mimetype": "text/x-python",
   "name": "python",
   "nbconvert_exporter": "python",
   "pygments_lexer": "ipython3",
   "version": "3.7.4"
  }
 },
 "nbformat": 4,
 "nbformat_minor": 2
}
