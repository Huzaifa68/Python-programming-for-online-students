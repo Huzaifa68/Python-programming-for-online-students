person_dict = {
    0:{
    'first_name':'Nabeel',
    'last_name': 'Khan',
    'age': 23,
    'city': 'Khi'},
    1:{
    'first_name':'NAK',
    'last_name': 'NAK',
    'age': 23,
    'city': 'Khi',
    'Qualification':"MSC"},
              }
print(person_dict)
person_dict[0]['Qualification'] = "BSC"
print(person_dict)
person_dict[0]['Qualification'] = "PHD"
print(person_dict)
del person_dict[0]['Qualification']
print(person_dict)



cities = {
    "karachi":{"country":"Pakistan","Population":"10 Million","fact":"Economical Hub"},
    "peshawar":{"country":"Pakistan","Population":"5 million",'fact':"Beautiful"},
    "islamabad":{"country":"Pakistan","Population":"1 million","fact":"Capital City Of Pakistan"}
    }

for city, city_info in cities.items():
    country = city_info['country'].title()
    population = city_info['Population']
    fact = city_info['fact'].title()

    print("\n" + city.title() + " is in " + country + ".")
    print("  It has a population of about " + str(population) + ".")
    print("  The " + fact + " is the Fact of it")


while True:
    age = int(input("what is your age: "))
    if age <=3:
        print("your ticket is free")
        break
    if age >3 and age <=12:
        print("your ticket is $10")
        break
    if age > 12:
        print("your ticket is $15")
        break


import random
hidden = random.randint(1,30) 
def hint(hidden):
    print("================HINT================")
    if hidden>= 1 and hidden < 5:
        print("try a number between 1 and 5")
    elif hidden >= 5 and hidden < 10:
        print("try a number between 5 and 10")
    elif hidden >= 10 and hidden < 15:
        print("try a number between 10 and 20")
    elif hidden >= 15 and hidden < 20:
        print("try a number between 15 and 20")
    elif hidden >= 20 and hidden < 25:
        print("try a number between 20 and 35")
    elif hidden >= 25 and hidden <= 30:
        print("try a number between 25 and 30")
    return None
def userhint(user,hidden):
    if hidden > user:
        print("try a number graterthan : {}".format(user))
    elif hidden < user:
        print("try a number samller than : {}".format(user))
    return None

hint(hidden)
for i in range(0,3):
    user = int(input("enter your guess: "))
    userhint(user,hidden)
    if user == hidden:
        print("your guess is right")
        break


